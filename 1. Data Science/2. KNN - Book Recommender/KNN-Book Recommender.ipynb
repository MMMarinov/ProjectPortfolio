{
 "cells": [
  {
   "cell_type": "markdown",
   "metadata": {},
   "source": [
    "<h1> Book Recommender <h1>\n",
    "<h3> The focus of this project is to build a simple and straightforward Book Recommender using similarity as our driver for suggestions </h3>"
   ]
  },
  {
   "cell_type": "markdown",
   "metadata": {},
   "source": [
    "1. Load Data\n",
    "2. Investigate Ratings \n",
    "3. Look at Country Data (Canada/USA)\n",
    "4. P. Corr with Ratings\n",
    "5. K-Nearest Neighbours\n",
    "6. Perform Cosine Similarity\n",
    "7. Evalulate agansit P. Corr"
   ]
  },
  {
   "cell_type": "code",
   "execution_count": 2,
   "metadata": {},
   "outputs": [
    {
     "name": "stderr",
     "output_type": "stream",
     "text": [
      "/tmp/ipykernel_24499/1082827720.py:10: DtypeWarning: Columns (3) have mixed types. Specify dtype option on import or set low_memory=False.\n",
      "  books = pd.read_csv(book_path, sep=';', on_bad_lines=\"skip\", encoding=\"latin-1\")\n"
     ]
    }
   ],
   "source": [
    "import pandas as pd\n",
    "import numpy as np\n",
    "import matplotlib.pyplot as plt\n",
    "\n",
    "\n",
    "book_rating_path = \"/workspaces/ProjectPortfolio/1. Data Science/2. KNN - Book Recommender/Datasets/BX-Book-Ratings.csv\"\n",
    "book_path = \"/workspaces/ProjectPortfolio/1. Data Science/2. KNN - Book Recommender/Datasets/BX-Books.csv\"\n",
    "book_user_path = \"/workspaces/ProjectPortfolio/1. Data Science/2. KNN - Book Recommender/Datasets/BX-Users.csv\"\n",
    "\n",
    "books = pd.read_csv(book_path, sep=';', on_bad_lines=\"skip\", encoding=\"latin-1\")\n",
    "books.columns = ['ISBN', 'bookTitle', 'bookAuthor', 'yearOfPublication', 'publisher', 'imageUrlS', 'imageUrlM', 'imageUrlL']\n",
    "\n",
    "users = pd.read_csv(book_user_path, sep=';', on_bad_lines=\"skip\", encoding=\"latin-1\")\n",
    "users.columns = ['userID', 'Location', 'Age']\n",
    "\n",
    "ratings = pd.read_csv(book_rating_path, sep=';', on_bad_lines=\"skip\", encoding=\"latin-1\")\n",
    "ratings.columns = ['userID', 'ISBN', 'bookRating']"
   ]
  },
  {
   "cell_type": "code",
   "execution_count": null,
   "metadata": {},
   "outputs": [],
   "source": [
    "print(f\"\"\"Shape of Ratings:\\n{ratings.shape} \\n\\nRatings Data Types: \\n{ratings.dtypes} \\n\\nRatings DF:\\n{ratings.head()}\"\"\")"
   ]
  },
  {
   "cell_type": "code",
   "execution_count": null,
   "metadata": {},
   "outputs": [],
   "source": [
    "ratings['bookRating'].value_counts(sort=False).sort_index().plot(kind='bar')\n",
    "plt.title('Rating Distribution')\n",
    "plt.xlabel('Book Rating')\n",
    "plt.ylabel('Count of Ratings')\n",
    "plt.show()"
   ]
  },
  {
   "cell_type": "markdown",
   "metadata": {},
   "source": [
    "<h3> If we look at the top ratings and the average rating per book. We can see that the 0-rating greatly influences that rating of a book. <br>\n",
    "The top rated book has a rating of 1/10 which seems unlikely.</h3>"
   ]
  },
  {
   "cell_type": "code",
   "execution_count": null,
   "metadata": {},
   "outputs": [],
   "source": [
    "rating_count = pd.DataFrame(ratings.groupby('ISBN')['bookRating'].count())\n",
    "rating_count['averageRating'] = pd.DataFrame(ratings.groupby('ISBN')['bookRating'].mean())\n",
    "rating_count.sort_values('bookRating',ascending=False).head()"
   ]
  },
  {
   "cell_type": "markdown",
   "metadata": {},
   "source": [
    "<h3> The top rated book is Wild Animus which when found on Amazon customer reviews shows a 3.5/5. If scaled to a 10 point rating that would be a 7/10. <br>\n",
    "This indicates to me that the 0-point ratings should be dropped to reduce size and improve reliability of the scores</h3>"
   ]
  },
  {
   "cell_type": "code",
   "execution_count": null,
   "metadata": {},
   "outputs": [],
   "source": [
    "most_rated_books = pd.DataFrame(['0971880107', '0316666343', '0385504209', '0060928336', '0312195516'], index=np.arange(5), columns = ['ISBN'])\n",
    "most_rated_books_summary = pd.merge(most_rated_books, books, on='ISBN')\n",
    "most_rated_books_summary[most_rated_books_summary.columns[:5]]"
   ]
  },
  {
   "cell_type": "code",
   "execution_count": null,
   "metadata": {},
   "outputs": [],
   "source": [
    "ratings_non_zero = ratings[ratings['bookRating'] > 0].reset_index()\n",
    "ratings_non_zero['bookRating'].value_counts(sort=False).sort_index().plot(kind='bar')\n",
    "plt.title('Rating Distribution: Non-Zero')\n",
    "plt.xlabel('Book Rating')\n",
    "plt.ylabel('Count of Ratings')\n",
    "plt.show()"
   ]
  },
  {
   "cell_type": "markdown",
   "metadata": {},
   "source": [
    "<h3> <i>The Lovely Bones: A Novel</i> is now our top-rated and when compared to Amazon's review rating it is scored as 8.8/10 which is close to the 8.1/10 below. <br>\n",
    "<i> Wild Animus</i> however went from 1/10 to 4.4/10 which is not as close to the 7/10 we identified earlier. <br>\n",
    "My goal however is not to match the Amazon review ratings, but simply to adjust the dataframe to provide more realistic results.<br>\n",
    "Since this change has acomplished that, I will proceed with this adjustment.\n",
    "</h3>"
   ]
  },
  {
   "cell_type": "code",
   "execution_count": null,
   "metadata": {},
   "outputs": [],
   "source": [
    "rating_count_non_zero = pd.DataFrame(ratings_non_zero.groupby('ISBN')['bookRating'].count())\n",
    "rating_count_non_zero['averageRating'] = pd.DataFrame(ratings_non_zero.groupby('ISBN')['bookRating'].mean())\n",
    "most_rated_books_summary = pd.merge(rating_count_non_zero, books, on='ISBN')\n",
    "most_rated_books_summary[most_rated_books_summary.columns[:5]].sort_values('bookRating',ascending=False).head()"
   ]
  },
  {
   "cell_type": "code",
   "execution_count": null,
   "metadata": {},
   "outputs": [],
   "source": [
    "print(ratings_non_zero.bookRating.count())\n",
    "print(len(ratings_non_zero['ISBN'].value_counts()))"
   ]
  },
  {
   "cell_type": "code",
   "execution_count": null,
   "metadata": {},
   "outputs": [],
   "source": [
    "isbn_counts = ratings_non_zero['ISBN'].value_counts()\n",
    "\n",
    "ratings = 2\n",
    "isbn_counts_less_than = len(isbn_counts[isbn_counts < ratings])\n",
    "\n",
    "print(f\"Number of ISBNs with less than {ratings} ratings: {isbn_counts_less_than}\")\n",
    "print(f\"Total number of ISBNs with a rating: {len(isbn_counts)}\")\n",
    "print(f\"% of ISBN's with less than {ratings} ratings: {((isbn_counts_less_than / len(isbn_counts))*100):.4}%\")\n"
   ]
  },
  {
   "cell_type": "code",
   "execution_count": null,
   "metadata": {},
   "outputs": [],
   "source": [
    "isbn_counts_more_than_1 = isbn_counts[isbn_counts > 1]\n",
    "valid_isbns = isbn_counts_more_than_1.index.tolist()\n",
    "filtered_df = ratings_non_zero[ratings_non_zero['ISBN'].isin(valid_isbns)]\n",
    "filtered_df.shape"
   ]
  },
  {
   "cell_type": "markdown",
   "metadata": {},
   "source": [
    "<h3> I'm going to start fresh by establishing a new df indicating the adjustment that has been made."
   ]
  },
  {
   "cell_type": "code",
   "execution_count": 5,
   "metadata": {},
   "outputs": [],
   "source": [
    "def df_clean(df):\n",
    "    df_clean = df[df['bookRating'] > 0].reset_index() # Remove 0 rating score\n",
    "\n",
    "    isbn_counts = df_clean['ISBN'].value_counts() # Identifies Unique Book Entries\n",
    "    isbn_counts_over_1 = isbn_counts[isbn_counts > 1] # Books with more than 1 rating are stored\n",
    "    valid_isbns = isbn_counts_over_1.index.tolist() # Rearranged into a list\n",
    "\n",
    "    df_clean = df_clean[df_clean['ISBN'].isin(valid_isbns)] # Fitler df_clean to only include books with more than 1 rating\n",
    "    return df_clean"
   ]
  },
  {
   "cell_type": "code",
   "execution_count": 6,
   "metadata": {},
   "outputs": [],
   "source": [
    "rating_df = df_clean(ratings)"
   ]
  },
  {
   "cell_type": "code",
   "execution_count": 9,
   "metadata": {},
   "outputs": [
    {
     "name": "stderr",
     "output_type": "stream",
     "text": [
      "/tmp/ipykernel_24499/1780410457.py:1: PerformanceWarning: The following operation may generate 3608162208 cells in the resulting pandas object.\n",
      "  ratings_pivot = rating_df.pivot(index='userID', columns='ISBN').bookRating.fillna(0)\n"
     ]
    },
    {
     "ename": "MemoryError",
     "evalue": "Unable to allocate 26.9 GiB for an array with shape (64029, 56352) and data type float64",
     "output_type": "error",
     "traceback": [
      "\u001b[0;31m---------------------------------------------------------------------------\u001b[0m",
      "\u001b[0;31mMemoryError\u001b[0m                               Traceback (most recent call last)",
      "\u001b[1;32m/workspaces/ProjectPortfolio/1. Data Science/2. KNN - Book Recommender/KNN-Book Recommender.ipynb Cell 19\u001b[0m line \u001b[0;36m1\n\u001b[0;32m----> <a href='vscode-notebook-cell://codespaces%2Borange-meme-66x64wvx4rqfg4r/workspaces/ProjectPortfolio/1.%20Data%20Science/2.%20KNN%20-%20Book%20Recommender/KNN-Book%20Recommender.ipynb#X23sdnNjb2RlLXJlbW90ZQ%3D%3D?line=0'>1</a>\u001b[0m ratings_pivot \u001b[39m=\u001b[39m rating_df\u001b[39m.\u001b[39;49mpivot(index\u001b[39m=\u001b[39;49m\u001b[39m'\u001b[39;49m\u001b[39muserID\u001b[39;49m\u001b[39m'\u001b[39;49m, columns\u001b[39m=\u001b[39;49m\u001b[39m'\u001b[39;49m\u001b[39mISBN\u001b[39;49m\u001b[39m'\u001b[39;49m)\u001b[39m.\u001b[39mbookRating\u001b[39m.\u001b[39mfillna(\u001b[39m0\u001b[39m)\n\u001b[1;32m      <a href='vscode-notebook-cell://codespaces%2Borange-meme-66x64wvx4rqfg4r/workspaces/ProjectPortfolio/1.%20Data%20Science/2.%20KNN%20-%20Book%20Recommender/KNN-Book%20Recommender.ipynb#X23sdnNjb2RlLXJlbW90ZQ%3D%3D?line=1'>2</a>\u001b[0m userID \u001b[39m=\u001b[39m ratings_pivot\u001b[39m.\u001b[39mindex\n\u001b[1;32m      <a href='vscode-notebook-cell://codespaces%2Borange-meme-66x64wvx4rqfg4r/workspaces/ProjectPortfolio/1.%20Data%20Science/2.%20KNN%20-%20Book%20Recommender/KNN-Book%20Recommender.ipynb#X23sdnNjb2RlLXJlbW90ZQ%3D%3D?line=2'>3</a>\u001b[0m ISBN \u001b[39m=\u001b[39m ratings_pivot\u001b[39m.\u001b[39mcolumns\n",
      "File \u001b[0;32m/workspaces/ProjectPortfolio/.venv/lib/python3.10/site-packages/pandas/util/_decorators.py:331\u001b[0m, in \u001b[0;36mdeprecate_nonkeyword_arguments.<locals>.decorate.<locals>.wrapper\u001b[0;34m(*args, **kwargs)\u001b[0m\n\u001b[1;32m    325\u001b[0m \u001b[39mif\u001b[39;00m \u001b[39mlen\u001b[39m(args) \u001b[39m>\u001b[39m num_allow_args:\n\u001b[1;32m    326\u001b[0m     warnings\u001b[39m.\u001b[39mwarn(\n\u001b[1;32m    327\u001b[0m         msg\u001b[39m.\u001b[39mformat(arguments\u001b[39m=\u001b[39m_format_argument_list(allow_args)),\n\u001b[1;32m    328\u001b[0m         \u001b[39mFutureWarning\u001b[39;00m,\n\u001b[1;32m    329\u001b[0m         stacklevel\u001b[39m=\u001b[39mfind_stack_level(),\n\u001b[1;32m    330\u001b[0m     )\n\u001b[0;32m--> 331\u001b[0m \u001b[39mreturn\u001b[39;00m func(\u001b[39m*\u001b[39;49margs, \u001b[39m*\u001b[39;49m\u001b[39m*\u001b[39;49mkwargs)\n",
      "File \u001b[0;32m/workspaces/ProjectPortfolio/.venv/lib/python3.10/site-packages/pandas/core/frame.py:8567\u001b[0m, in \u001b[0;36mDataFrame.pivot\u001b[0;34m(self, index, columns, values)\u001b[0m\n\u001b[1;32m   8561\u001b[0m \u001b[39m@Substitution\u001b[39m(\u001b[39m\"\u001b[39m\u001b[39m\"\u001b[39m)\n\u001b[1;32m   8562\u001b[0m \u001b[39m@Appender\u001b[39m(_shared_docs[\u001b[39m\"\u001b[39m\u001b[39mpivot\u001b[39m\u001b[39m\"\u001b[39m])\n\u001b[1;32m   8563\u001b[0m \u001b[39m@deprecate_nonkeyword_arguments\u001b[39m(version\u001b[39m=\u001b[39m\u001b[39mNone\u001b[39;00m, allowed_args\u001b[39m=\u001b[39m[\u001b[39m\"\u001b[39m\u001b[39mself\u001b[39m\u001b[39m\"\u001b[39m])\n\u001b[1;32m   8564\u001b[0m \u001b[39mdef\u001b[39;00m \u001b[39mpivot\u001b[39m(\u001b[39mself\u001b[39m, index\u001b[39m=\u001b[39m\u001b[39mNone\u001b[39;00m, columns\u001b[39m=\u001b[39m\u001b[39mNone\u001b[39;00m, values\u001b[39m=\u001b[39m\u001b[39mNone\u001b[39;00m) \u001b[39m-\u001b[39m\u001b[39m>\u001b[39m DataFrame:\n\u001b[1;32m   8565\u001b[0m     \u001b[39mfrom\u001b[39;00m \u001b[39mpandas\u001b[39;00m\u001b[39m.\u001b[39;00m\u001b[39mcore\u001b[39;00m\u001b[39m.\u001b[39;00m\u001b[39mreshape\u001b[39;00m\u001b[39m.\u001b[39;00m\u001b[39mpivot\u001b[39;00m \u001b[39mimport\u001b[39;00m pivot\n\u001b[0;32m-> 8567\u001b[0m     \u001b[39mreturn\u001b[39;00m pivot(\u001b[39mself\u001b[39;49m, index\u001b[39m=\u001b[39;49mindex, columns\u001b[39m=\u001b[39;49mcolumns, values\u001b[39m=\u001b[39;49mvalues)\n",
      "File \u001b[0;32m/workspaces/ProjectPortfolio/.venv/lib/python3.10/site-packages/pandas/util/_decorators.py:331\u001b[0m, in \u001b[0;36mdeprecate_nonkeyword_arguments.<locals>.decorate.<locals>.wrapper\u001b[0;34m(*args, **kwargs)\u001b[0m\n\u001b[1;32m    325\u001b[0m \u001b[39mif\u001b[39;00m \u001b[39mlen\u001b[39m(args) \u001b[39m>\u001b[39m num_allow_args:\n\u001b[1;32m    326\u001b[0m     warnings\u001b[39m.\u001b[39mwarn(\n\u001b[1;32m    327\u001b[0m         msg\u001b[39m.\u001b[39mformat(arguments\u001b[39m=\u001b[39m_format_argument_list(allow_args)),\n\u001b[1;32m    328\u001b[0m         \u001b[39mFutureWarning\u001b[39;00m,\n\u001b[1;32m    329\u001b[0m         stacklevel\u001b[39m=\u001b[39mfind_stack_level(),\n\u001b[1;32m    330\u001b[0m     )\n\u001b[0;32m--> 331\u001b[0m \u001b[39mreturn\u001b[39;00m func(\u001b[39m*\u001b[39;49margs, \u001b[39m*\u001b[39;49m\u001b[39m*\u001b[39;49mkwargs)\n",
      "File \u001b[0;32m/workspaces/ProjectPortfolio/.venv/lib/python3.10/site-packages/pandas/core/reshape/pivot.py:540\u001b[0m, in \u001b[0;36mpivot\u001b[0;34m(data, index, columns, values)\u001b[0m\n\u001b[1;32m    536\u001b[0m         indexed \u001b[39m=\u001b[39m data\u001b[39m.\u001b[39m_constructor_sliced(data[values]\u001b[39m.\u001b[39m_values, index\u001b[39m=\u001b[39mmultiindex)\n\u001b[1;32m    537\u001b[0m \u001b[39m# error: Argument 1 to \"unstack\" of \"DataFrame\" has incompatible type \"Union\u001b[39;00m\n\u001b[1;32m    538\u001b[0m \u001b[39m# [List[Any], ExtensionArray, ndarray[Any, Any], Index, Series]\"; expected\u001b[39;00m\n\u001b[1;32m    539\u001b[0m \u001b[39m# \"Hashable\"\u001b[39;00m\n\u001b[0;32m--> 540\u001b[0m \u001b[39mreturn\u001b[39;00m indexed\u001b[39m.\u001b[39;49munstack(columns_listlike)\n",
      "File \u001b[0;32m/workspaces/ProjectPortfolio/.venv/lib/python3.10/site-packages/pandas/core/frame.py:9112\u001b[0m, in \u001b[0;36mDataFrame.unstack\u001b[0;34m(self, level, fill_value)\u001b[0m\n\u001b[1;32m   9050\u001b[0m \u001b[39m\u001b[39m\u001b[39m\"\"\"\u001b[39;00m\n\u001b[1;32m   9051\u001b[0m \u001b[39mPivot a level of the (necessarily hierarchical) index labels.\u001b[39;00m\n\u001b[1;32m   9052\u001b[0m \n\u001b[0;32m   (...)\u001b[0m\n\u001b[1;32m   9108\u001b[0m \u001b[39mdtype: float64\u001b[39;00m\n\u001b[1;32m   9109\u001b[0m \u001b[39m\"\"\"\u001b[39;00m\n\u001b[1;32m   9110\u001b[0m \u001b[39mfrom\u001b[39;00m \u001b[39mpandas\u001b[39;00m\u001b[39m.\u001b[39;00m\u001b[39mcore\u001b[39;00m\u001b[39m.\u001b[39;00m\u001b[39mreshape\u001b[39;00m\u001b[39m.\u001b[39;00m\u001b[39mreshape\u001b[39;00m \u001b[39mimport\u001b[39;00m unstack\n\u001b[0;32m-> 9112\u001b[0m result \u001b[39m=\u001b[39m unstack(\u001b[39mself\u001b[39;49m, level, fill_value)\n\u001b[1;32m   9114\u001b[0m \u001b[39mreturn\u001b[39;00m result\u001b[39m.\u001b[39m__finalize__(\u001b[39mself\u001b[39m, method\u001b[39m=\u001b[39m\u001b[39m\"\u001b[39m\u001b[39munstack\u001b[39m\u001b[39m\"\u001b[39m)\n",
      "File \u001b[0;32m/workspaces/ProjectPortfolio/.venv/lib/python3.10/site-packages/pandas/core/reshape/reshape.py:476\u001b[0m, in \u001b[0;36munstack\u001b[0;34m(obj, level, fill_value)\u001b[0m\n\u001b[1;32m    474\u001b[0m \u001b[39mif\u001b[39;00m \u001b[39misinstance\u001b[39m(obj, DataFrame):\n\u001b[1;32m    475\u001b[0m     \u001b[39mif\u001b[39;00m \u001b[39misinstance\u001b[39m(obj\u001b[39m.\u001b[39mindex, MultiIndex):\n\u001b[0;32m--> 476\u001b[0m         \u001b[39mreturn\u001b[39;00m _unstack_frame(obj, level, fill_value\u001b[39m=\u001b[39;49mfill_value)\n\u001b[1;32m    477\u001b[0m     \u001b[39melse\u001b[39;00m:\n\u001b[1;32m    478\u001b[0m         \u001b[39mreturn\u001b[39;00m obj\u001b[39m.\u001b[39mT\u001b[39m.\u001b[39mstack(dropna\u001b[39m=\u001b[39m\u001b[39mFalse\u001b[39;00m)\n",
      "File \u001b[0;32m/workspaces/ProjectPortfolio/.venv/lib/python3.10/site-packages/pandas/core/reshape/reshape.py:502\u001b[0m, in \u001b[0;36m_unstack_frame\u001b[0;34m(obj, level, fill_value)\u001b[0m\n\u001b[1;32m    499\u001b[0m unstacker \u001b[39m=\u001b[39m _Unstacker(obj\u001b[39m.\u001b[39mindex, level\u001b[39m=\u001b[39mlevel, constructor\u001b[39m=\u001b[39mobj\u001b[39m.\u001b[39m_constructor)\n\u001b[1;32m    501\u001b[0m \u001b[39mif\u001b[39;00m \u001b[39mnot\u001b[39;00m obj\u001b[39m.\u001b[39m_can_fast_transpose:\n\u001b[0;32m--> 502\u001b[0m     mgr \u001b[39m=\u001b[39m obj\u001b[39m.\u001b[39;49m_mgr\u001b[39m.\u001b[39;49munstack(unstacker, fill_value\u001b[39m=\u001b[39;49mfill_value)\n\u001b[1;32m    503\u001b[0m     \u001b[39mreturn\u001b[39;00m obj\u001b[39m.\u001b[39m_constructor(mgr)\n\u001b[1;32m    504\u001b[0m \u001b[39melse\u001b[39;00m:\n",
      "File \u001b[0;32m/workspaces/ProjectPortfolio/.venv/lib/python3.10/site-packages/pandas/core/internals/managers.py:1680\u001b[0m, in \u001b[0;36mBlockManager.unstack\u001b[0;34m(self, unstacker, fill_value)\u001b[0m\n\u001b[1;32m   1677\u001b[0m mgr_locs \u001b[39m=\u001b[39m blk\u001b[39m.\u001b[39mmgr_locs\n\u001b[1;32m   1678\u001b[0m new_placement \u001b[39m=\u001b[39m mgr_locs\u001b[39m.\u001b[39mtile_for_unstack(factor)\n\u001b[0;32m-> 1680\u001b[0m blocks, mask \u001b[39m=\u001b[39m blk\u001b[39m.\u001b[39;49m_unstack(\n\u001b[1;32m   1681\u001b[0m     unstacker,\n\u001b[1;32m   1682\u001b[0m     fill_value,\n\u001b[1;32m   1683\u001b[0m     new_placement\u001b[39m=\u001b[39;49mnew_placement,\n\u001b[1;32m   1684\u001b[0m     needs_masking\u001b[39m=\u001b[39;49mneeds_masking,\n\u001b[1;32m   1685\u001b[0m )\n\u001b[1;32m   1687\u001b[0m new_blocks\u001b[39m.\u001b[39mextend(blocks)\n\u001b[1;32m   1688\u001b[0m columns_mask\u001b[39m.\u001b[39mextend(mask)\n",
      "File \u001b[0;32m/workspaces/ProjectPortfolio/.venv/lib/python3.10/site-packages/pandas/core/internals/blocks.py:921\u001b[0m, in \u001b[0;36mBlock._unstack\u001b[0;34m(self, unstacker, fill_value, new_placement, needs_masking)\u001b[0m\n\u001b[1;32m    895\u001b[0m \u001b[39mdef\u001b[39;00m \u001b[39m_unstack\u001b[39m(\n\u001b[1;32m    896\u001b[0m     \u001b[39mself\u001b[39m,\n\u001b[1;32m    897\u001b[0m     unstacker,\n\u001b[0;32m   (...)\u001b[0m\n\u001b[1;32m    900\u001b[0m     needs_masking: npt\u001b[39m.\u001b[39mNDArray[np\u001b[39m.\u001b[39mbool_],\n\u001b[1;32m    901\u001b[0m ):\n\u001b[1;32m    902\u001b[0m \u001b[39m    \u001b[39m\u001b[39m\"\"\"\u001b[39;00m\n\u001b[1;32m    903\u001b[0m \u001b[39m    Return a list of unstacked blocks of self\u001b[39;00m\n\u001b[1;32m    904\u001b[0m \n\u001b[0;32m   (...)\u001b[0m\n\u001b[1;32m    919\u001b[0m \u001b[39m        The mask of columns of `blocks` we should keep.\u001b[39;00m\n\u001b[1;32m    920\u001b[0m \u001b[39m    \"\"\"\u001b[39;00m\n\u001b[0;32m--> 921\u001b[0m     new_values, mask \u001b[39m=\u001b[39m unstacker\u001b[39m.\u001b[39;49mget_new_values(\n\u001b[1;32m    922\u001b[0m         \u001b[39mself\u001b[39;49m\u001b[39m.\u001b[39;49mvalues\u001b[39m.\u001b[39;49mT, fill_value\u001b[39m=\u001b[39;49mfill_value\n\u001b[1;32m    923\u001b[0m     )\n\u001b[1;32m    925\u001b[0m     mask \u001b[39m=\u001b[39m mask\u001b[39m.\u001b[39many(\u001b[39m0\u001b[39m)\n\u001b[1;32m    926\u001b[0m     \u001b[39m# TODO: in all tests we have mask.all(); can we rely on that?\u001b[39;00m\n\u001b[1;32m    927\u001b[0m \n\u001b[1;32m    928\u001b[0m     \u001b[39m# Note: these next two lines ensure that\u001b[39;00m\n\u001b[1;32m    929\u001b[0m     \u001b[39m#  mask.sum() == sum(len(nb.mgr_locs) for nb in blocks)\u001b[39;00m\n\u001b[1;32m    930\u001b[0m     \u001b[39m#  which the calling function needs in order to pass verify_integrity=False\u001b[39;00m\n\u001b[1;32m    931\u001b[0m     \u001b[39m#  to the BlockManager constructor\u001b[39;00m\n",
      "File \u001b[0;32m/workspaces/ProjectPortfolio/.venv/lib/python3.10/site-packages/pandas/core/reshape/reshape.py:267\u001b[0m, in \u001b[0;36m_Unstacker.get_new_values\u001b[0;34m(self, values, fill_value)\u001b[0m\n\u001b[1;32m    265\u001b[0m     \u001b[39melse\u001b[39;00m:\n\u001b[1;32m    266\u001b[0m         dtype, fill_value \u001b[39m=\u001b[39m maybe_promote(dtype, fill_value)\n\u001b[0;32m--> 267\u001b[0m         new_values \u001b[39m=\u001b[39m np\u001b[39m.\u001b[39;49mempty(result_shape, dtype\u001b[39m=\u001b[39;49mdtype)\n\u001b[1;32m    268\u001b[0m         new_values\u001b[39m.\u001b[39mfill(fill_value)\n\u001b[1;32m    270\u001b[0m name \u001b[39m=\u001b[39m dtype\u001b[39m.\u001b[39mname\n",
      "\u001b[0;31mMemoryError\u001b[0m: Unable to allocate 26.9 GiB for an array with shape (64029, 56352) and data type float64"
     ]
    }
   ],
   "source": [
    "ratings_pivot = rating_df.pivot(index='userID', columns='ISBN').bookRating.fillna(0)\n",
    "userID = ratings_pivot.index\n",
    "ISBN = ratings_pivot.columns\n",
    "print(ratings_pivot.shape)\n",
    "ratings_pivot.head()"
   ]
  },
  {
   "cell_type": "code",
   "execution_count": null,
   "metadata": {},
   "outputs": [],
   "source": []
  },
  {
   "cell_type": "code",
   "execution_count": null,
   "metadata": {},
   "outputs": [],
   "source": []
  },
  {
   "cell_type": "code",
   "execution_count": null,
   "metadata": {},
   "outputs": [],
   "source": []
  },
  {
   "cell_type": "code",
   "execution_count": null,
   "metadata": {},
   "outputs": [],
   "source": []
  },
  {
   "cell_type": "code",
   "execution_count": null,
   "metadata": {},
   "outputs": [],
   "source": []
  },
  {
   "cell_type": "code",
   "execution_count": null,
   "metadata": {},
   "outputs": [],
   "source": []
  },
  {
   "cell_type": "code",
   "execution_count": null,
   "metadata": {},
   "outputs": [],
   "source": []
  },
  {
   "cell_type": "code",
   "execution_count": null,
   "metadata": {},
   "outputs": [],
   "source": []
  },
  {
   "cell_type": "code",
   "execution_count": null,
   "metadata": {},
   "outputs": [],
   "source": []
  },
  {
   "cell_type": "code",
   "execution_count": null,
   "metadata": {},
   "outputs": [],
   "source": []
  },
  {
   "cell_type": "code",
   "execution_count": null,
   "metadata": {},
   "outputs": [],
   "source": []
  },
  {
   "cell_type": "code",
   "execution_count": null,
   "metadata": {},
   "outputs": [],
   "source": []
  },
  {
   "cell_type": "code",
   "execution_count": null,
   "metadata": {},
   "outputs": [],
   "source": [
    "counts1 = ratings['userID'].value_counts()\n",
    "counts1.describe()\n"
   ]
  },
  {
   "cell_type": "code",
   "execution_count": null,
   "metadata": {},
   "outputs": [],
   "source": [
    "ratings = ratings[ratings['userID'].isin(counts1[counts1 >= 200].index)]\n",
    "counts = ratings['bookRating'].value_counts()\n",
    "ratings = ratings[ratings['bookRating'].isin(counts[counts >= 100].index)]"
   ]
  },
  {
   "cell_type": "code",
   "execution_count": null,
   "metadata": {},
   "outputs": [],
   "source": [
    "ratings_pivot = ratings.pivot(index='userID', columns='ISBN').bookRating.fillna(0)\n",
    "userID = ratings_pivot.index\n",
    "ISBN = ratings_pivot.columns\n",
    "print(ratings_pivot.shape)\n",
    "ratings_pivot.head()"
   ]
  },
  {
   "cell_type": "code",
   "execution_count": null,
   "metadata": {},
   "outputs": [],
   "source": [
    "bones_ratings = ratings_pivot['0316666343']\n",
    "similar_to_bones = ratings_pivot.corrwith(bones_ratings)\n",
    "corr_bones = pd.DataFrame(similar_to_bones, columns=['pearsonR'])\n",
    "corr_bones.dropna(inplace=True)\n",
    "corr_summary = corr_bones.join(rating_count['ratingCount'])\n",
    "corr_summary[corr_summary['ratingCount']>=30].sort_values('pearsonR', ascending=False).head(10)"
   ]
  },
  {
   "cell_type": "code",
   "execution_count": null,
   "metadata": {},
   "outputs": [],
   "source": [
    "books_corr_to_bones = pd.DataFrame(['0312291639', '0316601950', '0446610038', '0446672211', '0385265700', '0345342968', '0060930535', '0375707972', '0684872153'], \n",
    "                                  index=np.arange(9), columns=['ISBN'])\n",
    "corr_books = pd.merge(books_corr_to_bones, books, on='ISBN')\n",
    "corr_books"
   ]
  },
  {
   "cell_type": "code",
   "execution_count": null,
   "metadata": {},
   "outputs": [],
   "source": [
    "combine_book_rating = pd.merge(ratings, books, on='ISBN')\n",
    "columns = ['yearOfPublication', 'publisher', 'bookAuthor', 'imageUrlS', 'imageUrlM', 'imageUrlL']\n",
    "combine_book_rating = combine_book_rating.drop(columns, axis=1)\n",
    "combine_book_rating.head()"
   ]
  },
  {
   "cell_type": "code",
   "execution_count": null,
   "metadata": {},
   "outputs": [],
   "source": [
    "combine_book_rating = combine_book_rating.dropna(axis = 0, subset = ['bookTitle'])\n",
    "\n",
    "book_ratingCount = (combine_book_rating.\n",
    "     groupby(by = ['bookTitle'])['bookRating'].\n",
    "     count().\n",
    "     reset_index().\n",
    "     rename(columns = {'bookRating': 'totalRatingCount'})\n",
    "     [['bookTitle', 'totalRatingCount']]\n",
    "    )\n",
    "book_ratingCount.head()"
   ]
  },
  {
   "cell_type": "code",
   "execution_count": null,
   "metadata": {},
   "outputs": [],
   "source": [
    "rating_with_totalRatingCount = combine_book_rating.merge(book_ratingCount, left_on = 'bookTitle', right_on = 'bookTitle', how = 'left')\n",
    "rating_with_totalRatingCount.head()"
   ]
  },
  {
   "cell_type": "code",
   "execution_count": null,
   "metadata": {},
   "outputs": [],
   "source": [
    "pd.set_option('display.float_format', lambda x: '%.3f' % x)\n",
    "print(book_ratingCount['totalRatingCount'].describe())"
   ]
  },
  {
   "cell_type": "code",
   "execution_count": null,
   "metadata": {},
   "outputs": [],
   "source": [
    "print(book_ratingCount['totalRatingCount'].quantile(np.arange(.9, 1, .01)))"
   ]
  },
  {
   "cell_type": "code",
   "execution_count": null,
   "metadata": {},
   "outputs": [],
   "source": [
    "popularity_threshold = 5\n",
    "rating_popular_book = rating_with_totalRatingCount.query('totalRatingCount >= @popularity_threshold')\n",
    "rating_popular_book.head()"
   ]
  },
  {
   "cell_type": "code",
   "execution_count": null,
   "metadata": {},
   "outputs": [],
   "source": [
    "combined = rating_popular_book.merge(users, left_on = 'userID', right_on = 'userID', how = 'left')\n",
    "\n",
    "us_canada_user_rating = combined[combined['Location'].str.contains(\"usa|canada\")]\n",
    "us_canada_user_rating=us_canada_user_rating.drop('Age', axis=1)\n",
    "us_canada_user_rating.head()"
   ]
  },
  {
   "cell_type": "code",
   "execution_count": null,
   "metadata": {},
   "outputs": [],
   "source": [
    "from scipy.sparse import csr_matrix\n",
    "us_canada_user_rating = us_canada_user_rating.drop_duplicates(['userID', 'bookTitle'])\n",
    "us_canada_user_rating_pivot = us_canada_user_rating.pivot(index = 'bookTitle', columns = 'userID', values = 'bookRating').fillna(0)\n",
    "us_canada_user_rating_matrix = csr_matrix(us_canada_user_rating_pivot.values)\n",
    "\n",
    "from sklearn.neighbors import NearestNeighbors\n",
    "\n",
    "model_knn = NearestNeighbors(metric = 'cosine', algorithm = 'brute')\n",
    "model_knn.fit(us_canada_user_rating_matrix)"
   ]
  },
  {
   "cell_type": "code",
   "execution_count": null,
   "metadata": {},
   "outputs": [],
   "source": [
    "query_index = np.random.choice(us_canada_user_rating_pivot.shape[0])\n",
    "\n",
    "# Get the user's ratings as a 1D array (without reshaping)\n",
    "user_ratings = us_canada_user_rating_pivot.iloc[query_index, :]\n",
    "\n",
    "# Use user_ratings directly with kneighbors\n",
    "distances, indices = model_knn.kneighbors([user_ratings], n_neighbors=6)\n",
    "\n",
    "for i in range(0, len(distances.flatten())):\n",
    "    if i == 0:\n",
    "        print('Recommendations for {0}:\\n'.format(us_canada_user_rating_pivot.index[query_index]))\n",
    "    else:\n",
    "        print('{0}: {1}, with distance of {2}:'.format(i, us_canada_user_rating_pivot.index[indices.flatten()[i]], distances.flatten()[i]))"
   ]
  },
  {
   "cell_type": "code",
   "execution_count": null,
   "metadata": {},
   "outputs": [],
   "source": [
    "us_canada_user_rating_pivot2 = us_canada_user_rating.pivot(index = 'userID', columns = 'bookTitle', values = 'bookRating').fillna(0)\n",
    "us_canada_user_rating_pivot2.head()"
   ]
  },
  {
   "cell_type": "code",
   "execution_count": null,
   "metadata": {},
   "outputs": [],
   "source": [
    "us_canada_user_rating_pivot2.shape"
   ]
  },
  {
   "cell_type": "code",
   "execution_count": null,
   "metadata": {},
   "outputs": [],
   "source": [
    "X = us_canada_user_rating_pivot2.values.T\n",
    "X.shape"
   ]
  },
  {
   "cell_type": "code",
   "execution_count": null,
   "metadata": {},
   "outputs": [],
   "source": [
    "import sklearn\n",
    "from sklearn.decomposition import TruncatedSVD\n",
    "\n",
    "SVD = TruncatedSVD(n_components=12, random_state=17)\n",
    "matrix = SVD.fit_transform(X)\n",
    "matrix.shape"
   ]
  },
  {
   "cell_type": "code",
   "execution_count": null,
   "metadata": {},
   "outputs": [],
   "source": [
    "import warnings\n",
    "warnings.filterwarnings(\"ignore\",category =RuntimeWarning)\n",
    "corr = np.corrcoef(matrix)\n",
    "corr.shape"
   ]
  },
  {
   "cell_type": "code",
   "execution_count": null,
   "metadata": {},
   "outputs": [],
   "source": [
    "us_canada_book_title = us_canada_user_rating_pivot2.columns\n",
    "us_canada_book_list = list(us_canada_book_title)\n",
    "coffey_hands = us_canada_book_list.index(\"M Is for Malice\")\n",
    "print(coffey_hands)"
   ]
  },
  {
   "cell_type": "code",
   "execution_count": null,
   "metadata": {},
   "outputs": [],
   "source": [
    "corr_coffey_hands  = corr[coffey_hands]\n",
    "list(us_canada_book_title[(corr_coffey_hands > 0.94)])"
   ]
  }
 ],
 "metadata": {
  "kernelspec": {
   "display_name": "Python 3",
   "language": "python",
   "name": "python3"
  },
  "language_info": {
   "codemirror_mode": {
    "name": "ipython",
    "version": 3
   },
   "file_extension": ".py",
   "mimetype": "text/x-python",
   "name": "python",
   "nbconvert_exporter": "python",
   "pygments_lexer": "ipython3",
   "version": "3.10.8"
  },
  "orig_nbformat": 4
 },
 "nbformat": 4,
 "nbformat_minor": 2
}
